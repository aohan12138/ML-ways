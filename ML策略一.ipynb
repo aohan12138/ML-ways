{
 "cells": [
  {
   "cell_type": "markdown",
   "metadata": {},
   "source": [
    "## ML(machine learning)策略：避免盲目选择，让我们能够更快更有效地让机器学习系统工作"
   ]
  },
  {
   "cell_type": "markdown",
   "metadata": {},
   "source": [
    "优化模型的方法：\n",
    "\n",
    "Collect more data\n",
    "\n",
    "Collect more diverse training set\n",
    "\n",
    "Train algorithm longer with gradient descent\n",
    "\n",
    "Try Adam instead of gradient descent\n",
    "\n",
    "Try bigger network\n",
    "\n",
    "Try smaller network\n",
    "\n",
    "Try dropout\n",
    "\n",
    "Add L2 regularization\n",
    "\n",
    "$\\cdots$"
   ]
  },
  {
   "cell_type": "markdown",
   "metadata": {},
   "source": [
    "正交化：每次只调试一个参数，保持其它参数不变，得到的模型只有某一性能改变。即一个参数只能影响一种性能。互不影响即正交。"
   ]
  },
  {
   "cell_type": "markdown",
   "metadata": {},
   "source": [
    "Fit training set well on cost function 使用更复杂NN，使用Adam等优化算法来实现\n",
    "\n",
    "Fit dev set well on cost function 通过正则化，采用更多训练样本来实现\n",
    "\n",
    "Fit test set well on cost function 使用更多的验证集样本来实现\n",
    "\n",
    "Performs well in real world 提升实际应用模型可以通过更换验证集，使用新的cost function来实现"
   ]
  },
  {
   "cell_type": "markdown",
   "metadata": {},
   "source": [
    "单一数字评估指标：根据量化的单值评价指标来比较不同超参数对应的模型优劣。"
   ]
  },
  {
   "cell_type": "markdown",
   "metadata": {},
   "source": [
    "准确率（Precision）：你给出的结果有多少是正确的。\n",
    "\n",
    "召回率（Recall）：在全部为正确的训练集中你能给出多少正确率。"
   ]
  },
  {
   "cell_type": "markdown",
   "metadata": {},
   "source": [
    "F1 Score ：综合考虑了Precision和Recall的大小。\n",
    "\n",
    "$F1=\\frac{2⋅P⋅R}{P+R}$\n",
    "\n",
    "或者平均值之类的"
   ]
  },
  {
   "cell_type": "markdown",
   "metadata": {},
   "source": [
    "性能和优化指标：\n",
    "\n",
    "解决的问题：所有的性能指标都综合在一起，构成单值评价指标是比较困难的。\n",
    "\n",
    "方法：我们可以把某些性能作为优化指标（Optimizing metic），寻求最优化值；而某些性能作为满意指标（Satisficing metic），只要满足阈值就行了。"
   ]
  },
  {
   "cell_type": "markdown",
   "metadata": {},
   "source": [
    "训练、开发、测试集的选择：训练集用来训练机器学习模型的参数，开发集用来对不同的超级参数（算法、模型）进行选择，测试集用来验证最终的机器学习系统的性能。\n",
    "\n",
    "\n",
    "尽量保证dev sets和test sets来源于同一分布且都反映了实际样本的情况。（一般训练集最大，开发集和测试集一样大。）"
   ]
  },
  {
   "cell_type": "markdown",
   "metadata": {},
   "source": [
    "当样本数量不多（小于一万）的时候，通常将Train/dev/test sets的比例设为60%/20%/20%，在没有dev sets的情况下，Train/test sets的比例设为70%/30%。当样本数量很大（百万级别）的时候，通常将相应的比例设为98%/1%/1%或者99%/1%。\n",
    "\n",
    "dev sets：能够检测不同算法或模型的区别\n",
    "test sets：能够反映出模型在实际中的表现\n",
    "\n",
    "实际应用中，可能没有test sets，这种情况也是允许的，只要算法模型没有对dev sets过拟合。"
   ]
  },
  {
   "cell_type": "markdown",
   "metadata": {},
   "source": [
    "改变评价标准：综合各种因素，改变代价函数以贴合实际。"
   ]
  },
  {
   "cell_type": "markdown",
   "metadata": {},
   "source": [
    "机器与人的表现：机器学习模型经过训练会不断接近human-level performance甚至超过它.\n",
    "\n",
    "bayes optimal error：理想情况，理论上任何模型都不能超过它。"
   ]
  },
  {
   "cell_type": "code",
   "execution_count": 6,
   "metadata": {},
   "outputs": [
    {
     "data": {
      "image/png": "[encoded data removed]",
      "text/plain": [
       "<IPython.core.display.Image object>"
      ]
     },
     "execution_count": 6,
     "metadata": {
      "image/png": {
       "height": 200,
       "width": 500
      }
     },
     "output_type": "execute_result"
    }
   ],
   "source": [
    "from IPython.display import Image\n",
    "libo=\"C:/Users/libo/Desktop/machine learning/结构化机器学习项目/图片/\"\n",
    "Image(filename = libo + \"1.png\", width=500, height=200)"
   ]
  },
  {
   "cell_type": "markdown",
   "metadata": {},
   "source": [
    "Avoidable bias：物体识别问题中，一般会用human-level error代表bayes optimal error，把training error与human-level error之间的差值称为avoidable bias；把dev error与training error之间的差值称为variance（体现算法优化空间的大小）。根据bias和variance值的相对大小，可以知道算法模型是否发生了欠拟合或者过拟合。\n",
    "\n",
    "bias > variance：欠拟合"
   ]
  },
  {
   "cell_type": "markdown",
   "metadata": {},
   "source": [
    "human-level performance：不同人群的错误率不同，该值的变化，会影响bias和variance值的相对变化。这种情况一般只会在模型表现很好，接近bayes optimal error的时候出现。"
   ]
  },
  {
   "cell_type": "markdown",
   "metadata": {},
   "source": [
    "机器模型超过人类的领域：\n",
    "\n",
    "Online advertising\n",
    "\n",
    "Product recommendations\n",
    "\n",
    "Logistics（物流）(predicting transit(运输) time)\n",
    "\n",
    "Loan approvals（贷款信用评估）\n",
    "\n",
    "当算法模型的表现超过human-level performance时，很难再通过人的直觉来解决如何继续提高算法模型性能的问题。"
   ]
  },
  {
   "cell_type": "markdown",
   "metadata": {},
   "source": [
    "解决avoidable bias的常用方法包括：\n",
    "\n",
    "    Train bigger model\n",
    "\n",
    "    Train longer/better optimization algorithms: momentum, RMSprop, Adam\n",
    "\n",
    "    Neural Network architecture/hyperparameters search\n",
    "\n",
    "解决variance的常用方法包括：\n",
    "\n",
    "    More data\n",
    "\n",
    "    Regularization: L2, dropout, data augmentation(数据扩充)\n",
    "\n",
    "    Neural Network architecture/hyperparameters search"
   ]
  }
 ],
 "metadata": {
  "kernelspec": {
   "display_name": "Python 3",
   "language": "python",
   "name": "python3"
  },
  "language_info": {
   "codemirror_mode": {
    "name": "ipython",
    "version": 3
   },
   "file_extension": ".py",
   "mimetype": "text/x-python",
   "name": "python",
   "nbconvert_exporter": "python",
   "pygments_lexer": "ipython3",
   "version": "3.6.8"
  }
 },
 "nbformat": 4,
 "nbformat_minor": 2
}
